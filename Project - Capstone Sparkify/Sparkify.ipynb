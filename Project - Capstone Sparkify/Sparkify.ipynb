{
 "cells": [
  {
   "cell_type": "markdown",
   "metadata": {},
   "source": [
    "# Sparkify Project Workspace\n",
    "This workspace contains a tiny subset (128MB) of the full dataset available (12GB). Feel free to use this workspace to build your project, or to explore a smaller subset with Spark before deploying your cluster on the cloud. Instructions for setting up your Spark cluster is included in the last lesson of the Extracurricular Spark Course content.\n",
    "\n",
    "You can follow the steps below to guide your data analysis and model building portion of this project."
   ]
  },
  {
   "cell_type": "markdown",
   "metadata": {},
   "source": [
    "## Introduction\n",
    "\n",
    "\n",
    "In this project I will load and manipulate a music app dataset similar to Spotify with Spark to engineer relevant features for predicting churn. Where Churn is cancelling their service altogether. By identifying these customers before they churn, the business can offer discounts and incentives to stay thereby potentially saving the business revenue. This workspace contains a tiny subset (128MB) of the full dataset available (12GB).\n",
    "\n",
    "\n",
    "\n",
    "\n",
    "### Project Overview\n",
    "\n",
    "*Sparkify* is an fictional music streaming service by Udacity to emulate a real streaming service like Spotify. The Sparkify users can stream the music with the free subscription plan with ads or the paid subscription plan without ads. Apart from using the service to listen to the music, users can swipe up or down, add songs to playlists, or even add friends. Users can change their subscription plan by *upgrading* it from free to paid, *downgrading* from paid to free, or stop using the service altogether by *canceling* the subscription. \n",
    "\n",
    "Any user interaction with the service triggers a certain log event that represents our data. A log contains information about the event time, identifies the session and the user, includes some of user attributes, subscription plan, user interaction type etc. \n",
    " \n",
    "We will use the mini dataset of 128MB to get used to our data and do all the necessary work. Since we are working with huge amount of data, we will use **Apache Spark** analytics engine for processing large datasets with Spark SQL query language for structured data processing."
   ]
  },
  {
   "cell_type": "markdown",
   "metadata": {},
   "source": [
    "### Problem statement\n",
    "\n",
    "Business-wise, the word \"**churn**\" is used to refer to customers that leave the company’s service over a given time period. The businesses strive to identify the potential users who are likely to leave *before* they actually leave the service in order to take actions to retain them. Some estimate that it may costs five or six times as much to acquire a new customer than it does to retain the ones you have (https://baremetrics.com/academy/churn).\n",
    "\n",
    "Our churned users are defined as those who **downgrade** or **cancel** the subscription. For the reasons explained later on *we will not mix* users who cancelled the subscription with users who downgraded. We’ll separately address these two churn types of users.\n",
    "\n",
    "The identification of potential churned users is a **binary classification problem**: either a user is *churned* or *non-churned*. In order to be able to properly classify users we will perform exploratory data analysis against sample data, then we’ll engineer the features that we will find important for churn classification, and finally, we’ll exercise modelling with selected features using various learning methods. \n",
    "\n",
    "The solution of our problem is to create a **machine learning model** that can provide prediction results achieving the *project goal* according to the chosen metrics as described in the next section."
   ]
  },
  {
   "cell_type": "markdown",
   "metadata": {},
   "source": [
    "### Metrics\n",
    "\n",
    "Since we are interested not only in precision (ensuring we identify as many users susceptible to churn as possible), but also in recall (ensuring the users we identify are actually likely to churn, since they’ll, for example, be proposed special offers), we propose to use [F1-score](https://en.wikipedia.org/wiki/F1_score) to measure our machine learning classifier performance."
   ]
  },
  {
   "cell_type": "markdown",
   "metadata": {},
   "source": [
    "### Project goal\n",
    "\n",
    "**Our project is all about the prediction ability.** After all, what is it good for all the data exploratory work, all the feature engineering creativity and nice-looking code if at the end our model doesn't work?  \n",
    "\n",
    "The project goal is to reach **0.9** of F1-score. We'll be also satisfied with a bit lower value but we'll definetely not be satisfied with the value below **0.8**.\n",
    "\n",
    "* The data is available in form of user events in json format\n",
    "* Data needs pre-processing in form of\n",
    " * Clean up of missing or unusable data\n",
    " * Feature extraction to extract meaningful information\n",
    "* On the next step, the pre-processed data is used to train several supervised machine learning model.\n",
    "* The best suited model is then chosen to predict future data\n",
    "\n",
    "Let's go!"
   ]
  },
  {
   "cell_type": "code",
   "execution_count": 1,
   "metadata": {},
   "outputs": [],
   "source": [
    "# --- import libraries ---\n",
    "from pyspark import SparkContext, SparkConf\n",
    "from pyspark.sql import SparkSession, Window\n",
    "import pyspark.sql.functions as F\n",
    "from pyspark.sql.types import IntegerType, StringType, TimestampType\n",
    "from pyspark.ml.feature import VectorAssembler, StandardScaler\n",
    "from pyspark.ml.tuning import CrossValidator, ParamGridBuilder\n",
    "from pyspark.ml.classification import LogisticRegression, RandomForestClassifier\n",
    "from pyspark.ml.classification import GBTClassifier, DecisionTreeClassifier, NaiveBayes\n",
    "from pyspark.ml.evaluation import Evaluator\n",
    "\n",
    "import datetime\n",
    "import numpy as np\n",
    "import pandas as pd\n",
    "\n",
    "import matplotlib.pyplot as plt\n",
    "# ------------------------\n",
    "\n",
    "%matplotlib inline"
   ]
  },
  {
   "cell_type": "code",
   "execution_count": 2,
   "metadata": {},
   "outputs": [],
   "source": [
    "# set colors for all charts parameters for custom plot\n",
    "pltParams = {'axes.facecolor'    : '#EAEAF2', # background color\n",
    "             'axes.spines.top'   : False,     # disabled borders\n",
    "             'axes.spines.bottom': False,\n",
    "             'axes.spines.left'  : False,\n",
    "             'axes.spines.right' : False,\n",
    "             'grid.color'        : 'white',   # set grid color\n",
    "             'grid.linestyle'    : '-'}       # define grid line style\n",
    "\n",
    "# update rcParams for all plots\n",
    "plt.rcParams.update(pltParams)"
   ]
  },
  {
   "cell_type": "markdown",
   "metadata": {},
   "source": [
    "<hr>"
   ]
  },
  {
   "cell_type": "markdown",
   "metadata": {},
   "source": [
    "# Load and Clean Dataset\n",
    "In this workspace, the mini-dataset file is `mini_sparkify_event_data.json`. Load and clean the dataset, checking for invalid or missing data - for example, records without userids or sessionids. "
   ]
  },
  {
   "cell_type": "code",
   "execution_count": 3,
   "metadata": {},
   "outputs": [],
   "source": [
    "# create a Spark session\n",
    "spark = SparkSession.builder.appName('Sparkify').getOrCreate()"
   ]
  },
  {
   "cell_type": "code",
   "execution_count": 4,
   "metadata": {},
   "outputs": [],
   "source": [
    "# set constant\n",
    "CONST_DATAFILE            = 'mini_sparkify_event_data.json'\n",
    "CONST_PROCESSED_DATAFILE  = 'mini_sparkify_processed.json'\n",
    "\n",
    "CONST_COLOR_1 = '#1F77B4' # blue\n",
    "CONST_COLOR_2 = '#7F006E' # purpur\n",
    "CONST_COLOR_3 = '#5F9E6E' # green"
   ]
  },
  {
   "cell_type": "code",
   "execution_count": 5,
   "metadata": {},
   "outputs": [
    {
     "data": {
      "text/plain": [
       "[('spark.app.id', 'local-1623867538051'),\n",
       " ('spark.driver.port', '59058'),\n",
       " ('spark.driver.host', '20IAV101844N-0.iavgroup.local'),\n",
       " ('spark.rdd.compress', 'True'),\n",
       " ('spark.sql.warehouse.dir',\n",
       "  'file:/E:/Udacity/Data_Scientist_Nanodegree/06_Data%20Scientist%20Capstone/Lesson%2028%20-%20Project%20-%20Data%20Scientist%20Capstone/project_Sparkify/spark-warehouse'),\n",
       " ('spark.app.name', 'Sparkify'),\n",
       " ('spark.serializer.objectStreamReset', '100'),\n",
       " ('spark.master', 'local[*]'),\n",
       " ('spark.submit.pyFiles', ''),\n",
       " ('spark.app.startTime', '1623867535401'),\n",
       " ('spark.executor.id', 'driver'),\n",
       " ('spark.submit.deployMode', 'client'),\n",
       " ('spark.ui.showConsoleProgress', 'true')]"
      ]
     },
     "execution_count": 5,
     "metadata": {},
     "output_type": "execute_result"
    }
   ],
   "source": [
    "# get configuration\n",
    "spark.sparkContext.getConf().getAll()"
   ]
  },
  {
   "cell_type": "code",
   "execution_count": 6,
   "metadata": {},
   "outputs": [],
   "source": [
    "# load data and get a fist look\n",
    "data_raw = spark.read.json( CONST_DATAFILE )"
   ]
  },
  {
   "cell_type": "code",
   "execution_count": 7,
   "metadata": {},
   "outputs": [
    {
     "name": "stdout",
     "output_type": "stream",
     "text": [
      "root\n",
      " |-- _corrupt_record: string (nullable = true)\n",
      " |-- artist: string (nullable = true)\n",
      " |-- auth: string (nullable = true)\n",
      " |-- firstName: string (nullable = true)\n",
      " |-- gender: string (nullable = true)\n",
      " |-- itemInSession: long (nullable = true)\n",
      " |-- lastName: string (nullable = true)\n",
      " |-- length: double (nullable = true)\n",
      " |-- level: string (nullable = true)\n",
      " |-- location: string (nullable = true)\n",
      " |-- method: string (nullable = true)\n",
      " |-- page: string (nullable = true)\n",
      " |-- registration: long (nullable = true)\n",
      " |-- sessionId: long (nullable = true)\n",
      " |-- song: string (nullable = true)\n",
      " |-- status: long (nullable = true)\n",
      " |-- ts: long (nullable = true)\n",
      " |-- userAgent: string (nullable = true)\n",
      " |-- userId: string (nullable = true)\n",
      "\n"
     ]
    }
   ],
   "source": [
    "# review columns\n",
    "data_raw.printSchema()"
   ]
  },
  {
   "cell_type": "markdown",
   "metadata": {},
   "source": [
    "### at the first place -- get a first look into the data"
   ]
  },
  {
   "cell_type": "code",
   "execution_count": 8,
   "metadata": {},
   "outputs": [
    {
     "name": "stdout",
     "output_type": "stream",
     "text": [
      "Number of rows in raw dataset: 284159\n",
      "amount of columns: 19\n"
     ]
    }
   ],
   "source": [
    "# number of raw events\n",
    "print('Number of rows in raw dataset: ' + str( data_raw.count() ))\n",
    "print('amount of columns: ' + str( len(data_raw.columns) ))"
   ]
  },
  {
   "cell_type": "code",
   "execution_count": 9,
   "metadata": {},
   "outputs": [
    {
     "name": "stdout",
     "output_type": "stream",
     "text": [
      "+-------+------------------+\n",
      "|summary|         sessionId|\n",
      "+-------+------------------+\n",
      "|  count|            284158|\n",
      "|   mean|1031.7338628509492|\n",
      "| stddev| 721.5467283054604|\n",
      "|    min|                 1|\n",
      "|    max|              2474|\n",
      "+-------+------------------+\n",
      "\n",
      "+-------+------------------+\n",
      "|summary|            userId|\n",
      "+-------+------------------+\n",
      "|  count|            284158|\n",
      "|   mean|60172.507530366136|\n",
      "| stddev|109405.45883220363|\n",
      "|    min|                  |\n",
      "|    max|                99|\n",
      "+-------+------------------+\n",
      "\n"
     ]
    }
   ],
   "source": [
    "# there seem to be 2 ID columns: sessionId and userId\n",
    "data_raw.describe(\"sessionId\").show()\n",
    "data_raw.describe(\"userId\").show()"
   ]
  },
  {
   "cell_type": "code",
   "execution_count": 10,
   "metadata": {},
   "outputs": [
    {
     "name": "stdout",
     "output_type": "stream",
     "text": [
      "Number of sessions before cleaning: 2342\n",
      "Number of users before cleaning: 227\n"
     ]
    }
   ],
   "source": [
    "print('Number of sessions before cleaning: ' + str(data_raw.select('sessionId').distinct().count()))\n",
    "print('Number of users before cleaning: ' + str(data_raw.select('userId').distinct().count()))"
   ]
  },
  {
   "cell_type": "code",
   "execution_count": 11,
   "metadata": {},
   "outputs": [
    {
     "name": "stdout",
     "output_type": "stream",
     "text": [
      "Are the session and user ID values valid:\n",
      "+------+\n",
      "|userId|\n",
      "+------+\n",
      "+------+\n",
      "\n",
      "+---------+\n",
      "|sessionId|\n",
      "+---------+\n",
      "+---------+\n",
      "\n",
      "+------+-----------------------+\n",
      "|userId|total empty userID rows|\n",
      "+------+-----------------------+\n",
      "|      |                   8275|\n",
      "+------+-----------------------+\n",
      "\n",
      "+---------+--------------------------+\n",
      "|sessionId|total empty sessionId rows|\n",
      "+---------+--------------------------+\n",
      "+---------+--------------------------+\n",
      "\n",
      "Number of rows without user ID: 8275\n"
     ]
    }
   ],
   "source": [
    "# let's ensure the session and user ID values are valid\n",
    "print('Are the session and user ID values valid:')\n",
    "data_raw.select('userId').where( F.isnull(data_raw.userId) ).show()\n",
    "data_raw.select('sessionId').where( F.isnull(data_raw.sessionId)).show()\n",
    "\n",
    "data_raw.groupBy('userId').agg({'userId':'count'}).where(data_raw.userId == '') \\\n",
    "    .withColumnRenamed('count(userId)', 'total empty userID rows').show()\n",
    "\n",
    "data_raw.groupBy('sessionId').agg({'sessionId':'count'}).where(data_raw.sessionId == '') \\\n",
    "    .withColumnRenamed('count(sessionId)', 'total empty sessionId rows').show()\n",
    "\n",
    "print('Number of rows without user ID: ' + str( data_raw.where(data_raw.userId =='').count() ))"
   ]
  },
  {
   "cell_type": "markdown",
   "metadata": {},
   "source": [
    "### at the second place -- get a close look into the data"
   ]
  },
  {
   "cell_type": "code",
   "execution_count": 12,
   "metadata": {},
   "outputs": [],
   "source": [
    "# implement a helper function\n",
    "def getUniqueValuesOf(data, column):\n",
    "    \"\"\"\n",
    "    Return the unique values with row count of a given column in the data set.\n",
    "    \n",
    "    param: data - DataFrame - The data set. \n",
    "    param: column - String  - The name of a target column.\n",
    "    @return - DataFrame - A dataframe query sorted by count descending.\n",
    "    \"\"\"\n",
    "    \n",
    "    return data.groupby(column).count().sort(F.desc('count'))"
   ]
  },
  {
   "cell_type": "code",
   "execution_count": 13,
   "metadata": {},
   "outputs": [
    {
     "name": "stdout",
     "output_type": "stream",
     "text": [
      "+----------+------+\n",
      "|      auth| count|\n",
      "+----------+------+\n",
      "| Logged In|275831|\n",
      "|Logged Out|  8178|\n",
      "|     Guest|    97|\n",
      "| Cancelled|    52|\n",
      "|      null|     1|\n",
      "+----------+------+\n",
      "\n"
     ]
    }
   ],
   "source": [
    "# what is about the colum: auth / authentication level\n",
    "getUniqueValuesOf(data_raw, 'auth').show()"
   ]
  },
  {
   "cell_type": "code",
   "execution_count": 14,
   "metadata": {},
   "outputs": [
    {
     "name": "stdout",
     "output_type": "stream",
     "text": [
      "+------+------+\n",
      "|gender| count|\n",
      "+------+------+\n",
      "|     F|153015|\n",
      "|     M|122868|\n",
      "|  null|  8276|\n",
      "+------+------+\n",
      "\n"
     ]
    }
   ],
   "source": [
    "# what is about the colum: gender / gender of a user\n",
    "getUniqueValuesOf(data_raw, 'gender').show()"
   ]
  },
  {
   "cell_type": "code",
   "execution_count": 15,
   "metadata": {},
   "outputs": [
    {
     "name": "stdout",
     "output_type": "stream",
     "text": [
      "+-----+------+\n",
      "|level| count|\n",
      "+-----+------+\n",
      "| paid|226212|\n",
      "| free| 57946|\n",
      "| null|     1|\n",
      "+-----+------+\n",
      "\n"
     ]
    }
   ],
   "source": [
    "# what is about the colum: level / subscription level of a user\n",
    "getUniqueValuesOf(data_raw, 'level').show()"
   ]
  },
  {
   "cell_type": "code",
   "execution_count": 16,
   "metadata": {},
   "outputs": [
    {
     "name": "stdout",
     "output_type": "stream",
     "text": [
      "+-------------------------------------+-----+\n",
      "|location                             |count|\n",
      "+-------------------------------------+-----+\n",
      "|Los Angeles-Long Beach-Anaheim, CA   |29955|\n",
      "|New York-Newark-Jersey City, NY-NJ-PA|23644|\n",
      "|Boston-Cambridge-Newton, MA-NH       |13574|\n",
      "|Houston-The Woodlands-Sugar Land, TX |9303 |\n",
      "|null                                 |8276 |\n",
      "+-------------------------------------+-----+\n",
      "only showing top 5 rows\n",
      "\n"
     ]
    }
   ],
   "source": [
    "# what is about the colum: location / location of a user (containing city, state)\n",
    "getUniqueValuesOf(data_raw, 'location').show(5, False)"
   ]
  },
  {
   "cell_type": "code",
   "execution_count": 17,
   "metadata": {},
   "outputs": [
    {
     "name": "stdout",
     "output_type": "stream",
     "text": [
      "+------+------+\n",
      "|method| count|\n",
      "+------+------+\n",
      "|   PUT|258922|\n",
      "|   GET| 25236|\n",
      "|  null|     1|\n",
      "+------+------+\n",
      "\n"
     ]
    }
   ],
   "source": [
    "# what is about the colum: method / http request method\n",
    "getUniqueValuesOf(data_raw, 'method').show()"
   ]
  },
  {
   "cell_type": "code",
   "execution_count": 18,
   "metadata": {},
   "outputs": [
    {
     "name": "stdout",
     "output_type": "stream",
     "text": [
      "+------+------+\n",
      "|status|count |\n",
      "+------+------+\n",
      "|200   |257732|\n",
      "|307   |26172 |\n",
      "|404   |254   |\n",
      "|null  |1     |\n",
      "+------+------+\n",
      "\n"
     ]
    }
   ],
   "source": [
    "# what is about the colum: status / http response status code\n",
    "getUniqueValuesOf(data_raw, 'status').show(5, False)"
   ]
  },
  {
   "cell_type": "code",
   "execution_count": 19,
   "metadata": {},
   "outputs": [
    {
     "name": "stdout",
     "output_type": "stream",
     "text": [
      "+-------------------------+------+\n",
      "|page                     |count |\n",
      "+-------------------------+------+\n",
      "|NextSong                 |226277|\n",
      "|Home                     |14334 |\n",
      "|Thumbs Up                |12455 |\n",
      "|Add to Playlist          |6473  |\n",
      "|Add Friend               |4196  |\n",
      "|Roll Advert              |3909  |\n",
      "|Login                    |3209  |\n",
      "|Logout                   |3195  |\n",
      "|Thumbs Down              |2530  |\n",
      "|Downgrade                |2041  |\n",
      "|Help                     |1712  |\n",
      "|Settings                 |1504  |\n",
      "|About                    |916   |\n",
      "|Upgrade                  |496   |\n",
      "|Save Settings            |308   |\n",
      "|Error                    |254   |\n",
      "|Submit Upgrade           |159   |\n",
      "|Submit Downgrade         |63    |\n",
      "|Cancellation Confirmation|52    |\n",
      "|Cancel                   |52    |\n",
      "|Register                 |18    |\n",
      "|Submit Registration      |5     |\n",
      "|null                     |1     |\n",
      "+-------------------------+------+\n",
      "\n"
     ]
    }
   ],
   "source": [
    "# what is about the colum: page / type of a user interaction\n",
    "getUniqueValuesOf(data_raw, 'page').show(30, False)"
   ]
  },
  {
   "cell_type": "code",
   "execution_count": 20,
   "metadata": {},
   "outputs": [
    {
     "data": {
      "text/plain": [
       "[Row(_corrupt_record=None, artist='Martha Tilston', auth='Logged In', firstName='Colin', gender='M', itemInSession=50, lastName='Freeman', length=277.89016, level='paid', location='Bakersfield, CA', method='PUT', page='NextSong', registration=1538173362000, sessionId=29, song='Rockpools', status=200, ts=1538352117000, userAgent='Mozilla/5.0 (Windows NT 6.1; WOW64; rv:31.0) Gecko/20100101 Firefox/31.0', userId='30'),\n",
       " Row(_corrupt_record=None, artist='Five Iron Frenzy', auth='Logged In', firstName='Micah', gender='M', itemInSession=79, lastName='Long', length=236.09424, level='free', location='Boston-Cambridge-Newton, MA-NH', method='PUT', page='NextSong', registration=1538331630000, sessionId=8, song='Canada', status=200, ts=1538352180000, userAgent='\"Mozilla/5.0 (Windows NT 6.1; WOW64) AppleWebKit/537.36 (KHTML, like Gecko) Chrome/37.0.2062.103 Safari/537.36\"', userId='9')]"
      ]
     },
     "execution_count": 20,
     "metadata": {},
     "output_type": "execute_result"
    }
   ],
   "source": [
    "# have a look at the raw datas\n",
    "data_raw.take(2)"
   ]
  },
  {
   "cell_type": "code",
   "execution_count": 21,
   "metadata": {},
   "outputs": [
    {
     "name": "stdout",
     "output_type": "stream",
     "text": [
      "+-------------------+\n",
      "|               page|\n",
      "+-------------------+\n",
      "|               Home|\n",
      "|              About|\n",
      "|Submit Registration|\n",
      "|              Login|\n",
      "|           Register|\n",
      "|               Help|\n",
      "|              Error|\n",
      "+-------------------+\n",
      "\n",
      "Number of records having no userId or sessionId:        8275\n",
      "Number of records having sessionId but missing userId:  0\n",
      "Number of records having userId but missing sessionId:  0\n"
     ]
    }
   ],
   "source": [
    "data_no_user_or_session = data_raw.filter( (data_raw.userId == '') | ( data_raw.sessionId == '') )\n",
    "data_no_user_or_session.select('page').dropDuplicates().show()\n",
    "\n",
    "print('Number of records having no userId or sessionId:       ', data_no_user_or_session.count())\n",
    "print('Number of records having sessionId but missing userId: ', data_no_user_or_session.filter( (data_raw.userId == '') & (data_raw.sessionId != '') ).count())\n",
    "print('Number of records having userId but missing sessionId: ', data_no_user_or_session.filter( (data_raw.userId != '') & (data_raw.sessionId == '') ).count())"
   ]
  },
  {
   "cell_type": "markdown",
   "metadata": {},
   "source": [
    "**Note**\n",
    "\n",
    "As can be seen, there are 8275 records without an association of userId or sessionId. If we then look at the page column for these records, it becomes clear that these records belong to unregistered users. \n",
    "\n",
    "We also see that both sessionId and userId are missing for these records. In this case, unfortunately, we cannot populate these records either. Upon further inspection, it also appears that the sessionId is rotated and belongs to different users over different time periods. Therefore, in this case, we cannot use the sessionId information to populate the userId.\n",
    "\n",
    "As a result, we cannot gain any meaningful insights from these records and should rather exclude these records from the analysis."
   ]
  },
  {
   "cell_type": "code",
   "execution_count": 22,
   "metadata": {},
   "outputs": [],
   "source": [
    "data_user_log_valid = data_raw.dropna(how='any', subset=['userId', 'sessionId']);\n",
    "data_user_log_valid = data_user_log_valid.where( data_user_log_valid.userId != '' )"
   ]
  },
  {
   "cell_type": "markdown",
   "metadata": {},
   "source": [
    "Let's extract the 'state' information from the location:"
   ]
  },
  {
   "cell_type": "code",
   "execution_count": 23,
   "metadata": {},
   "outputs": [],
   "source": [
    "func_getState = F.udf(lambda x: x[-2:])\n",
    "data_user_log_valid = data_user_log_valid.withColumn('state', func_getState( data_user_log_valid.location ))"
   ]
  },
  {
   "cell_type": "markdown",
   "metadata": {},
   "source": [
    "Let's convert this into a better understandable timestamp format:"
   ]
  },
  {
   "cell_type": "code",
   "execution_count": 24,
   "metadata": {},
   "outputs": [],
   "source": [
    "func_getTimestamp = F.udf(lambda x: datetime.datetime.fromtimestamp(x/1000.0), TimestampType())\n",
    "data_user_log_valid = data_user_log_valid.withColumn('timestamp', func_getTimestamp( data_user_log_valid.ts ))"
   ]
  },
  {
   "cell_type": "markdown",
   "metadata": {},
   "source": [
    "<hr>"
   ]
  },
  {
   "cell_type": "markdown",
   "metadata": {},
   "source": [
    "# Exploratory Data Analysis\n",
    "When you're working with the full dataset, perform EDA by loading a small subset of the data and doing basic manipulations within Spark. In this workspace, you are already provided a small subset of data you can explore."
   ]
  },
  {
   "cell_type": "code",
   "execution_count": 25,
   "metadata": {},
   "outputs": [],
   "source": [
    "data_count_by_page   = data_user_log_valid.groupby('page').agg(F.count('page').alias('cnt')).sort('page').toPandas()\n",
    "data_count_by_gender = data_user_log_valid.groupby('gender').agg(F.count('gender').alias('cnt')).sort('gender').toPandas()\n",
    "data_count_by_level  = data_user_log_valid.groupby('level').agg(F.count('level').alias('cnt')).sort('level').toPandas()"
   ]
  },
  {
   "cell_type": "code",
   "execution_count": 26,
   "metadata": {},
   "outputs": [],
   "source": [
    "data_count_by_status = data_user_log_valid.groupby('status').agg(F.count('status').alias('cnt')) \\\n",
    "                          .withColumn('status', F.col('status').cast(StringType())).sort('status').toPandas()\n",
    "data_users_by_gender = data_user_log_valid.select('userId', 'gender').dropDuplicates() \\\n",
    "                          .groupBy('gender').agg( F.count('gender').alias('cnt') ).sort('gender').toPandas()"
   ]
  },
  {
   "cell_type": "code",
   "execution_count": 27,
   "metadata": {},
   "outputs": [],
   "source": [
    "# set window\n",
    "w = Window.partitionBy('userId')\n",
    "data_user_current_level = data_user_log_valid.withColumn('maxTs', F.max('ts').over( w ))\\\n",
    "                            .where(F.col('ts') == F.col('maxTs'))\\\n",
    "                            .drop('maxTs')\\\n",
    "                            .select('userId', 'level').dropDuplicates()"
   ]
  },
  {
   "cell_type": "code",
   "execution_count": 28,
   "metadata": {},
   "outputs": [],
   "source": [
    "data_users_by_level = data_user_current_level.groupBy('level')\\\n",
    "                        .agg( F.count('level').alias('cnt') )\\\n",
    "                        .sort('level').toPandas()"
   ]
  },
  {
   "cell_type": "code",
   "execution_count": 29,
   "metadata": {},
   "outputs": [],
   "source": [
    "data_pages = data_count_by_page.sort_values(by=['cnt'])"
   ]
  },
  {
   "cell_type": "code",
   "execution_count": 30,
   "metadata": {},
   "outputs": [
    {
     "data": {
      "image/png": "[encoded data removed]",
      "text/plain": [
       "<Figure size 864x432 with 1 Axes>"
      ]
     },
     "metadata": {
      "needs_background": "light"
     },
     "output_type": "display_data"
    }
   ],
   "source": [
    "# plot a diagram - use log scale for better visualisaton\n",
    "fig, ax = plt.subplots( figsize=(12,6) )\n",
    "\n",
    "ax.bar(data_pages.page, data_pages.cnt, log=True, color=CONST_COLOR_1, zorder=3)\n",
    "plt.xticks(rotation=75)\n",
    "\n",
    "plt.title(\"amount of used action by user (log scale)\")\n",
    "plt.ylabel('amount')\n",
    "plt.xlabel('action')\n",
    "\n",
    "plt.rcParams.update(pltParams)\n",
    "plt.tight_layout()\n",
    "plt.grid(True)\n",
    "plt.show()"
   ]
  },
  {
   "cell_type": "code",
   "execution_count": 31,
   "metadata": {},
   "outputs": [
    {
     "data": {
      "image/png": "[encoded data removed]",
      "text/plain": [
       "<Figure size 864x432 with 2 Axes>"
      ]
     },
     "metadata": {
      "needs_background": "light"
     },
     "output_type": "display_data"
    }
   ],
   "source": [
    "# plot a diagram\n",
    "fig, axs = plt.subplots(1, 2, figsize=(12,6))\n",
    "\n",
    "axs[0].bar(data_count_by_gender.gender, data_count_by_gender.cnt, align='center', width=0.2, color=CONST_COLOR_2, zorder=3)\n",
    "axs[0].set_title('Gender Split - activity')\n",
    "axs[0].set_xlabel('gender')\n",
    "axs[0].set_ylabel('activity count')\n",
    "axs[0].grid(True)\n",
    "\n",
    "axs[1].bar(data_users_by_gender.gender, data_users_by_gender.cnt, align='center', width=0.2, color=CONST_COLOR_1, zorder=3)\n",
    "axs[1].set_title('Gender Split - user')\n",
    "axs[1].set_xlabel('gender')\n",
    "axs[1].set_ylabel('user count')\n",
    "axs[1].grid(True)\n",
    "\n",
    "plt.rcParams.update(pltParams)\n",
    "plt.tight_layout()\n",
    "plt.show()"
   ]
  },
  {
   "cell_type": "code",
   "execution_count": 32,
   "metadata": {},
   "outputs": [
    {
     "data": {
      "image/png": "[encoded data removed]",
      "text/plain": [
       "<Figure size 1080x432 with 3 Axes>"
      ]
     },
     "metadata": {
      "needs_background": "light"
     },
     "output_type": "display_data"
    }
   ],
   "source": [
    "# plot a diagram\n",
    "fig, axs = plt.subplots(1, 3, figsize=(15,6))\n",
    "\n",
    "axs[0].bar(data_count_by_level.level, data_count_by_level.cnt, align='center', width=0.3, color=CONST_COLOR_1, zorder=3)\n",
    "axs[0].set_title('Split by User Tier - activity')\n",
    "axs[0].set_xlabel('tier')\n",
    "axs[0].set_ylabel('activity count')\n",
    "axs[0].grid(True)\n",
    "\n",
    "axs[1].bar(data_users_by_level.level, data_users_by_level.cnt, align='center', width=0.3, color=CONST_COLOR_2, zorder=3)\n",
    "axs[1].set_title('Split by User Tier - user')\n",
    "axs[1].set_xlabel('tier')\n",
    "axs[1].set_ylabel('user count')\n",
    "axs[1].grid(True)\n",
    "\n",
    "axs[2].bar(data_count_by_status.status, data_count_by_status.cnt, log=True, width=0.3, color=CONST_COLOR_1, zorder=3)\n",
    "axs[2].set_title('Response Status Distribution')\n",
    "axs[2].grid(True)\n",
    "\n",
    "plt.rcParams.update(pltParams)\n",
    "plt.tight_layout()\n",
    "plt.show()"
   ]
  },
  {
   "cell_type": "markdown",
   "metadata": {},
   "source": [
    "**Note**\n",
    "\n",
    "The `Page` column represents user-initiated events and can be used here to extract meaningful features for modeling and analysis.\n",
    "\n",
    "The breakdown by `gender` is approximately the same and does not give a noticeable difference at first glance. It is tested to see if there is a bias in migrated users based on gender.\n",
    "\n",
    "`Level` contains whether the user has a free or paid subscription. Here it seems that \"paid\" users are much more active. However, it could be that this difference is also due to the larger number of paid users in the available dataset.\n",
    "\n",
    "`Status` represents the HTTP response code received. The 4xx error codes represent the error and we can see if receiving too many errors was a factor."
   ]
  },
  {
   "cell_type": "code",
   "execution_count": 33,
   "metadata": {},
   "outputs": [
    {
     "name": "stdout",
     "output_type": "stream",
     "text": [
      "Num Records showing different registration value for same userId 0\n"
     ]
    }
   ],
   "source": [
    "# evaluate: different registration value for same userId with value 0\n",
    "data_uid_reg_cnt = data_user_log_valid.select('userId', 'registration') \\\n",
    "                    .dropDuplicates() \\\n",
    "                    .groupBy('userId', 'registration') \\\n",
    "                    .count().withColumnRenamed('count', 'cnt')\n",
    "\n",
    "print('Num Records showing different registration value for same userId', data_uid_reg_cnt.where('cnt > 1  or cnt < 1').count())"
   ]
  },
  {
   "cell_type": "markdown",
   "metadata": {},
   "source": [
    "**Note**\n",
    "\n",
    "Num records with different registration values for the same userId with value 0.\n",
    "\n",
    "`Registration` represents the time of registration for the specified user. There is a direct relationship between them. Here this column can be used to derive or extract the user lifetime from it."
   ]
  },
  {
   "cell_type": "code",
   "execution_count": 34,
   "metadata": {},
   "outputs": [],
   "source": [
    "# evaluate: number of songs played by hour of day\n",
    "data_play_count_by_hour = data_user_log_valid.where( data_user_log_valid.page=='NextSong' ) \\\n",
    "                            .groupby( F.hour(data_user_log_valid.timestamp ).alias('hour') ) \\\n",
    "                            .count().orderBy('hour').toPandas()"
   ]
  },
  {
   "cell_type": "code",
   "execution_count": 35,
   "metadata": {},
   "outputs": [
    {
     "data": {
      "image/png": "[encoded data removed]",
      "text/plain": [
       "<Figure size 864x360 with 1 Axes>"
      ]
     },
     "metadata": {
      "needs_background": "light"
     },
     "output_type": "display_data"
    }
   ],
   "source": [
    "# plot a diagram\n",
    "fig, ax = plt.subplots(figsize=(12,5))\n",
    "\n",
    "ax.bar(data_play_count_by_hour['hour'], data_play_count_by_hour['count'], color=CONST_COLOR_1, zorder=3)\n",
    "ax.set_xlabel('hour of a day')\n",
    "ax.set_ylabel('count')\n",
    "\n",
    "plt.ylim(7500,12000)\n",
    "plt.title(\"Number of Songs Played by hour of a day\")\n",
    "plt.rcParams.update(pltParams)\n",
    "plt.tight_layout()\n",
    "plt.grid(True)\n",
    "plt.show()"
   ]
  },
  {
   "cell_type": "markdown",
   "metadata": {},
   "source": [
    "**Note**\n",
    "\n",
    "Here it is very noticeable that many users use this platform most in the late afternoon or evening between 4-6pm and then stay on this platform for a very long time. Here one could assume that they use this platform more at home and less throughout the day. Thus, the utilization of the network load, the associated power consumption and also the accessibility of the server or the service could be included accordingly in the economic analysis. Efficiency and cost savings."
   ]
  },
  {
   "cell_type": "markdown",
   "metadata": {},
   "source": [
    "### Define Churn\n",
    "\n",
    "Once you've done some preliminary analysis, create a column `Churn` to use as the label for your model. I suggest using the `Cancellation Confirmation` events to define your churn, which happen for both paid and free users. As a bonus task, you can also look into the `Downgrade` events.\n",
    "\n",
    "**Note: What is Churn?**\n",
    "\n",
    "We define \"churn\" as any user who cancels services/stops using the service during a certain period of time. The data is then provided with an additional column \"churned\", which has the value \"churned\" for users who have cancelled their services. Otherwise, the value is \"active\". Also, a \"phase\" column is created, which has the value 0 for events before the user decides to downgrade services, and 1 after."
   ]
  },
  {
   "cell_type": "code",
   "execution_count": 36,
   "metadata": {},
   "outputs": [],
   "source": [
    "func_churn = F.udf(lambda x: 'churned' if x == 1 else 'active')\n",
    "\n",
    "# create downgrade label\n",
    "func_downgradeEvent = F.udf(lambda x: 1 if x == \"Submit Downgrade\" else 0, IntegerType())\n",
    "data_user_log_valid = data_user_log_valid.withColumn(\"downgraded\", func_downgradeEvent(\"page\"))\n",
    "\n",
    "# set window\n",
    "w = Window.partitionBy('userId').orderBy(F.desc('ts')).rangeBetween( Window.unboundedPreceding,0 )\n",
    "data_user_log_valid = data_user_log_valid.withColumn('phase', F.sum('downgraded').over(w))\n",
    "\n",
    "func_cancelledEvent = F.udf(lambda x: 1 if x == 'Cancellation Confirmation' else 0, IntegerType())\n",
    "data_user_log_valid = data_user_log_valid.withColumn('cancelled', func_cancelledEvent(data_user_log_valid.page) )"
   ]
  },
  {
   "cell_type": "code",
   "execution_count": 37,
   "metadata": {},
   "outputs": [],
   "source": [
    "# mark user who've ever downgraded as churn\n",
    "# set window\n",
    "w = Window.partitionBy('userId')\n",
    "data_user_log_valid = data_user_log_valid.withColumn('churned', func_churn(F.max('cancelled').over(w)))"
   ]
  },
  {
   "cell_type": "code",
   "execution_count": 38,
   "metadata": {},
   "outputs": [
    {
     "data": {
      "text/plain": [
       "[Row(userId='100010', downgraded=0, phase=0, cancelled=0, churned='active'),\n",
       " Row(userId='100010', downgraded=0, phase=0, cancelled=0, churned='active'),\n",
       " Row(userId='100010', downgraded=0, phase=0, cancelled=0, churned='active'),\n",
       " Row(userId='100010', downgraded=0, phase=0, cancelled=0, churned='active'),\n",
       " Row(userId='100010', downgraded=0, phase=0, cancelled=0, churned='active')]"
      ]
     },
     "execution_count": 38,
     "metadata": {},
     "output_type": "execute_result"
    }
   ],
   "source": [
    "data_user_log_valid.select(['userId', 'downgraded', 'phase', 'cancelled', 'churned']).take(5)"
   ]
  },
  {
   "cell_type": "markdown",
   "metadata": {},
   "source": [
    "### Explore Data\n",
    "Once you've defined churn, perform some exploratory data analysis to observe the behavior for users who stayed vs users who churned. You can start by exploring aggregates on these two groups of users, observing how much of a specific action they experienced per a certain time unit or number of songs played."
   ]
  },
  {
   "cell_type": "code",
   "execution_count": 39,
   "metadata": {},
   "outputs": [],
   "source": [
    "data_churned_split = data_user_log_valid.select(['userId', 'churned']) \\\n",
    "                        .dropDuplicates() \\\n",
    "                        .groupby('churned') \\\n",
    "                        .agg(F.count('churned').alias('cnt'))\\\n",
    "                        .sort('churned') \\\n",
    "                        .toPandas()"
   ]
  },
  {
   "cell_type": "code",
   "execution_count": 40,
   "metadata": {},
   "outputs": [],
   "source": [
    "data_churn_by_gender = data_user_log_valid.select(['gender', 'userId', 'churned']) \\\n",
    "                        .dropDuplicates() \\\n",
    "                        .groupby('churned', 'gender') \\\n",
    "                        .count().withColumnRenamed('count', 'cnt') \\\n",
    "                        .toPandas() \\\n",
    "                        .pivot(index='churned', columns='gender')['cnt']"
   ]
  },
  {
   "cell_type": "code",
   "execution_count": 41,
   "metadata": {},
   "outputs": [],
   "source": [
    "# set window\n",
    "w = Window.partitionBy('userId')\n",
    "data_churn_by_tier = data_user_log_valid.withColumn('maxTs', F.max('ts').over(w))\\\n",
    "                        .where(F.col('ts') == F.col('maxTs'))\\\n",
    "                        .drop('maxTs')\\\n",
    "                        .select('userId', 'churned', 'level') \\\n",
    "                        .dropDuplicates() \\\n",
    "                        .groupby('churned', 'level') \\\n",
    "                        .count().withColumnRenamed('count', 'cnt') \\\n",
    "                        .toPandas() \\\n",
    "                        .pivot(index='churned', columns='level')['cnt']"
   ]
  },
  {
   "cell_type": "code",
   "execution_count": 42,
   "metadata": {},
   "outputs": [],
   "source": [
    "data_user_ad_count = data_user_log_valid.where(data_user_log_valid.page=='Roll Advert') \\\n",
    "                        .groupBy('churned') \\\n",
    "                        .count() \\\n",
    "                        .withColumnRenamed('count', 'adCount') \\\n",
    "                        .sort('churned') \\\n",
    "                        .toPandas() \\\n",
    "                        .merge(data_churned_split)"
   ]
  },
  {
   "cell_type": "code",
   "execution_count": 43,
   "metadata": {},
   "outputs": [],
   "source": [
    "data_user_ad_count['avg_count'] = data_user_ad_count.adCount / data_user_ad_count.cnt"
   ]
  },
  {
   "cell_type": "code",
   "execution_count": 44,
   "metadata": {},
   "outputs": [],
   "source": [
    "# implement a helper function\n",
    "def func_makeAutoPercent(values):\n",
    "    def func_autoPercentHelper(pct):\n",
    "        total = sum(values)\n",
    "        val = int( round( pct*total/100.0 ) )\n",
    "        return '{p:.2f}%  ({v:d})'.format(p=pct,v=val)\n",
    "    \n",
    "    return func_autoPercentHelper\n",
    "# --------------"
   ]
  },
  {
   "cell_type": "code",
   "execution_count": 45,
   "metadata": {},
   "outputs": [
    {
     "data": {
      "image/png": "[encoded data removed]",
      "text/plain": [
       "<Figure size 1080x432 with 2 Axes>"
      ]
     },
     "metadata": {
      "needs_background": "light"
     },
     "output_type": "display_data"
    }
   ],
   "source": [
    "# plot a diagram\n",
    "fig, axs = plt.subplots(1, 2, figsize=(15,6))\n",
    "\n",
    "axs[0].pie( data_churned_split.cnt,\n",
    "            explode=(0,0.1),\n",
    "            labels=data_churned_split.churned, \n",
    "            colors=[CONST_COLOR_1,CONST_COLOR_3], ##2CA02C 7F006E\n",
    "            autopct=func_makeAutoPercent( data_churned_split.cnt ),\n",
    "            shadow=True,\n",
    "            startangle=90)\n",
    "\n",
    "axs[0].set_title('Churned and Active Split')\n",
    "axs[0].legend(loc='upper right')\n",
    "\n",
    "axs[1].bar([str(i) for i in data_churn_by_gender.index], data_churn_by_gender.M, label=\"Male\", align='edge', width=0.2, color=CONST_COLOR_3, zorder=3)\n",
    "axs[1].bar([str(i) for i in data_churn_by_gender.index], data_churn_by_gender.F, label=\"Female\", align='center', width=0.2, color=CONST_COLOR_1, zorder=3)\n",
    "axs[1].set_title('Churned By Gender')\n",
    "axs[1].legend(loc='upper right')\n",
    "axs[1].grid(True)\n",
    "\n",
    "plt.rcParams.update(pltParams)\n",
    "plt.tight_layout()\n",
    "plt.show()"
   ]
  },
  {
   "cell_type": "code",
   "execution_count": 46,
   "metadata": {},
   "outputs": [
    {
     "data": {
      "image/png": "[encoded data removed]",
      "text/plain": [
       "<Figure size 1080x432 with 2 Axes>"
      ]
     },
     "metadata": {
      "needs_background": "light"
     },
     "output_type": "display_data"
    }
   ],
   "source": [
    "# plot a diagram\n",
    "fig, axs = plt.subplots(1, 2, figsize=(15,6))\n",
    "\n",
    "axs[0].bar([str(i) for i in data_churn_by_tier.index], data_churn_by_tier.free, label=\"Free\", align='edge', width=0.2, color=CONST_COLOR_2, zorder=3)\n",
    "axs[0].bar([str(i) for i in data_churn_by_tier.index], data_churn_by_tier.paid, label=\"Paid\", align='center', width=0.2, color=CONST_COLOR_1, zorder=3)\n",
    "axs[0].set_title('Churned By Level')\n",
    "axs[0].legend(loc='upper right')\n",
    "axs[0].grid(True)\n",
    "\n",
    "axs[1].bar( data_user_ad_count.churned, data_user_ad_count.avg_count, width=0.3, color=CONST_COLOR_1, zorder=3)\n",
    "axs[1].set_title('Average Ad per user')\n",
    "axs[1].grid(True)\n",
    "\n",
    "plt.rcParams.update(pltParams)\n",
    "plt.tight_layout()\n",
    "plt.show()"
   ]
  },
  {
   "cell_type": "markdown",
   "metadata": {},
   "source": [
    "**Note**\n",
    "\n",
    "- As we can see, the `churned` is slightly higher among male users.\n",
    "- A slightly higher proportion of paid users remain active compared to free users.\n",
    "- The average number of ads seen by churned users is slightly higher than that of active users."
   ]
  },
  {
   "cell_type": "code",
   "execution_count": 47,
   "metadata": {},
   "outputs": [],
   "source": [
    "# extract: churned by location\n",
    "data_churned_users = data_user_log_valid.where( data_user_log_valid.churned=='churned' )\\\n",
    "                        .select('userId','state')\\\n",
    "                        .dropDuplicates() \\\n",
    "                        .groupBy('state')\\\n",
    "                        .agg(F.count('state').alias('cnt')).toPandas()"
   ]
  },
  {
   "cell_type": "code",
   "execution_count": 48,
   "metadata": {},
   "outputs": [
    {
     "data": {
      "image/png": "[encoded data removed]",
      "text/plain": [
       "<Figure size 1152x288 with 1 Axes>"
      ]
     },
     "metadata": {
      "needs_background": "light"
     },
     "output_type": "display_data"
    }
   ],
   "source": [
    "# plot a diagram\n",
    "fig, axs = plt.subplots(figsize=(16,4))\n",
    "plt.bar( data_churned_users['state'], data_churned_users['cnt'], width=0.5, color=CONST_COLOR_2, zorder=3)\n",
    "\n",
    "plt.title(\"Churned By Location\")\n",
    "plt.ylabel('count')\n",
    "plt.xlabel('location')\n",
    "\n",
    "plt.tight_layout()\n",
    "plt.rcParams.update(pltParams)\n",
    "plt.grid(True)\n",
    "plt.show()"
   ]
  },
  {
   "cell_type": "markdown",
   "metadata": {},
   "source": [
    "**Note**\n",
    "\n",
    "Above there are some spikes for specific states. For the states \"US-CA\" for California and \"US-PA\" for Pennsylvania seem to have the most users who have \"churned\" relative to the other state. But, since the total numbers are very low (the minimum is 1 and the maximum is 6), therefore I cannot conclude that there is a state bias in churn."
   ]
  },
  {
   "cell_type": "code",
   "execution_count": 49,
   "metadata": {},
   "outputs": [],
   "source": [
    "# extract: number of songs\n",
    "data_weekly_songs_played = data_user_log_valid.where( data_user_log_valid.page=='NextSong' ).select(['timestamp', 'churned'])\n",
    "data_weekly_songs_played = data_weekly_songs_played.groupBy(F.window( data_weekly_songs_played.timestamp,\"1 week\"), 'churned').count()\n",
    "data_weekly_songs_played = data_weekly_songs_played.select('window.start','churned','count').withColumnRenamed('count', 'cnt').toPandas()"
   ]
  },
  {
   "cell_type": "code",
   "execution_count": 50,
   "metadata": {},
   "outputs": [],
   "source": [
    "# extract: data to plot\n",
    "data_plot = data_weekly_songs_played.pivot(index='start', columns='churned')['cnt']"
   ]
  },
  {
   "cell_type": "code",
   "execution_count": 51,
   "metadata": {},
   "outputs": [
    {
     "data": {
      "text/html": [
       "<div>\n",
       "<style scoped>\n",
       "    .dataframe tbody tr th:only-of-type {\n",
       "        vertical-align: middle;\n",
       "    }\n",
       "\n",
       "    .dataframe tbody tr th {\n",
       "        vertical-align: top;\n",
       "    }\n",
       "\n",
       "    .dataframe thead th {\n",
       "        text-align: right;\n",
       "    }\n",
       "</style>\n",
       "<table border=\"1\" class=\"dataframe\">\n",
       "  <thead>\n",
       "    <tr style=\"text-align: right;\">\n",
       "      <th>churned</th>\n",
       "      <th>active</th>\n",
       "      <th>churned</th>\n",
       "    </tr>\n",
       "    <tr>\n",
       "      <th>start</th>\n",
       "      <th></th>\n",
       "      <th></th>\n",
       "    </tr>\n",
       "  </thead>\n",
       "  <tbody>\n",
       "    <tr>\n",
       "      <th>2018-09-27 02:00:00</th>\n",
       "      <td>6429</td>\n",
       "      <td>3608</td>\n",
       "    </tr>\n",
       "    <tr>\n",
       "      <th>2018-10-04 02:00:00</th>\n",
       "      <td>18427</td>\n",
       "      <td>7943</td>\n",
       "    </tr>\n",
       "    <tr>\n",
       "      <th>2018-10-11 02:00:00</th>\n",
       "      <td>18054</td>\n",
       "      <td>8611</td>\n",
       "    </tr>\n",
       "    <tr>\n",
       "      <th>2018-10-18 02:00:00</th>\n",
       "      <td>22989</td>\n",
       "      <td>5390</td>\n",
       "    </tr>\n",
       "    <tr>\n",
       "      <th>2018-10-25 02:00:00</th>\n",
       "      <td>22172</td>\n",
       "      <td>4479</td>\n",
       "    </tr>\n",
       "  </tbody>\n",
       "</table>\n",
       "</div>"
      ],
      "text/plain": [
       "churned              active  churned\n",
       "start                               \n",
       "2018-09-27 02:00:00    6429     3608\n",
       "2018-10-04 02:00:00   18427     7943\n",
       "2018-10-11 02:00:00   18054     8611\n",
       "2018-10-18 02:00:00   22989     5390\n",
       "2018-10-25 02:00:00   22172     4479"
      ]
     },
     "execution_count": 51,
     "metadata": {},
     "output_type": "execute_result"
    }
   ],
   "source": [
    "data_plot.head()"
   ]
  },
  {
   "cell_type": "code",
   "execution_count": 52,
   "metadata": {},
   "outputs": [
    {
     "data": {
      "image/png": "[encoded data removed]",
      "text/plain": [
       "<Figure size 1152x504 with 1 Axes>"
      ]
     },
     "metadata": {
      "needs_background": "light"
     },
     "output_type": "display_data"
    }
   ],
   "source": [
    "# plot a diagram\n",
    "data_plot.plot(kind='bar', figsize=(16,7), color=[CONST_COLOR_1,CONST_COLOR_2], zorder=3)\n",
    "\n",
    "plt.title(\"number of songs played per week\")\n",
    "plt.ylabel('count')\n",
    "plt.xlabel('date')\n",
    "plt.xticks(rotation=75)\n",
    "plt.legend(loc='upper right')\n",
    "\n",
    "plt.tight_layout()\n",
    "plt.rcParams.update(pltParams)\n",
    "plt.grid(True)\n",
    "plt.show()"
   ]
  },
  {
   "cell_type": "markdown",
   "metadata": {},
   "source": [
    "**Note**\n",
    "\n",
    "- The number of songs played by `active users` remains constant on average.\n",
    "- The number of songs played by `churned users` is low and slowly decreases over the time."
   ]
  },
  {
   "cell_type": "code",
   "execution_count": 53,
   "metadata": {},
   "outputs": [],
   "source": [
    "# examin encountered errors\n",
    "data_churn_by_errors = data_user_log_valid.where( data_user_log_valid.page=='Error' ) \\\n",
    "                        .select('churned') \\\n",
    "                        .groupBy('churned') \\\n",
    "                        .count() \\\n",
    "                        .withColumnRenamed('count', 'numErrors') \\\n",
    "                        .sort('churned') \\\n",
    "                        .toPandas() \\\n",
    "                        .merge(data_churned_split)\n",
    "\n",
    "data_churn_by_errors['avg_errors'] = data_churn_by_errors.numErrors / data_churn_by_errors.cnt"
   ]
  },
  {
   "cell_type": "code",
   "execution_count": 54,
   "metadata": {},
   "outputs": [
    {
     "data": {
      "text/html": [
       "<div>\n",
       "<style scoped>\n",
       "    .dataframe tbody tr th:only-of-type {\n",
       "        vertical-align: middle;\n",
       "    }\n",
       "\n",
       "    .dataframe tbody tr th {\n",
       "        vertical-align: top;\n",
       "    }\n",
       "\n",
       "    .dataframe thead th {\n",
       "        text-align: right;\n",
       "    }\n",
       "</style>\n",
       "<table border=\"1\" class=\"dataframe\">\n",
       "  <thead>\n",
       "    <tr style=\"text-align: right;\">\n",
       "      <th></th>\n",
       "      <th>churned</th>\n",
       "      <th>numErrors</th>\n",
       "      <th>cnt</th>\n",
       "      <th>avg_errors</th>\n",
       "    </tr>\n",
       "  </thead>\n",
       "  <tbody>\n",
       "    <tr>\n",
       "      <th>0</th>\n",
       "      <td>active</td>\n",
       "      <td>216</td>\n",
       "      <td>173</td>\n",
       "      <td>1.248555</td>\n",
       "    </tr>\n",
       "    <tr>\n",
       "      <th>1</th>\n",
       "      <td>churned</td>\n",
       "      <td>32</td>\n",
       "      <td>52</td>\n",
       "      <td>0.615385</td>\n",
       "    </tr>\n",
       "  </tbody>\n",
       "</table>\n",
       "</div>"
      ],
      "text/plain": [
       "   churned  numErrors  cnt  avg_errors\n",
       "0   active        216  173    1.248555\n",
       "1  churned         32   52    0.615385"
      ]
     },
     "execution_count": 54,
     "metadata": {},
     "output_type": "execute_result"
    }
   ],
   "source": [
    "data_churn_by_errors"
   ]
  },
  {
   "cell_type": "markdown",
   "metadata": {},
   "source": [
    "**Note**\n",
    "\n",
    "- The error page displayed by \"active users\" is proportionally higher than the errors displayed by churned subscribers.\n",
    "- Thus, this should not have a significant impact on the user's decision. Nevertheless, we should take this into account in the modeling."
   ]
  },
  {
   "cell_type": "markdown",
   "metadata": {},
   "source": [
    "<hr>"
   ]
  },
  {
   "cell_type": "markdown",
   "metadata": {},
   "source": [
    "# Feature Engineering\n",
    "Once you've familiarized yourself with the data, build out the features you find promising to train your model on. To work with the full dataset, you can follow the following steps.\n",
    "- Write a script to extract the necessary features from the smaller subset of data\n",
    "- Ensure that your script is scalable, using the best practices discussed in Lesson 3\n",
    "- Try your script on the full data set, debugging your script if necessary\n",
    "\n",
    "If you are working in the classroom workspace, you can just extract features based on the small subset of data contained here. Be sure to transfer over this work to the larger dataset when you work on your Spark cluster."
   ]
  },
  {
   "cell_type": "markdown",
   "metadata": {},
   "source": [
    "**Note**\n",
    "\n",
    "Up to this point, all users are identified as either Churners or Non-Churners. Thus, from this point in timet , some characteristics can be created and their distribution across the two groups of users can be compared.\n",
    "If one then looks at the averages, for example how often users performed certain actions in periods such as two weeks, this indicates that the results obtained are comparatively similar. \n",
    "Instead, looking at actions per session proved to be more useful."
   ]
  },
  {
   "cell_type": "code",
   "execution_count": 55,
   "metadata": {},
   "outputs": [],
   "source": [
    "# extract: user lifetime since registration\n",
    "data_user_lifetime = data_user_log_valid.select('userId','ts','registration') \\\n",
    "                        .groupBy('userId', 'registration') \\\n",
    "                        .agg((F.max( data_user_log_valid.ts - data_user_log_valid.registration) / (1000*3600*24)).alias('lifetime')) \\\n",
    "                        .select(['userId', 'lifetime'])"
   ]
  },
  {
   "cell_type": "code",
   "execution_count": 56,
   "metadata": {},
   "outputs": [],
   "source": [
    "# extract: session count, average, minimum and maximum session duration\n",
    "data_user_session_info = data_user_log_valid.groupBy('userId', 'sessionId') \\\n",
    "                            .agg((F.max( data_user_log_valid.ts ) - F.min( data_user_log_valid.ts )).alias('duration'))\n",
    "\n",
    "data_user_session_info = data_user_session_info.groupBy('userId') \\\n",
    "                            .agg( F.count('sessionId').alias('sessionCount'), \\\n",
    "                             F.avg('duration').alias('averageSessionDuration'), \\\n",
    "                             F.max('duration').alias('maxSessionDuration'), \\\n",
    "                             F.min('duration').alias('minSessionDuration') )"
   ]
  },
  {
   "cell_type": "code",
   "execution_count": 57,
   "metadata": {},
   "outputs": [],
   "source": [
    "# extract: number of songs played per session\n",
    "data_user_avg_songs = data_user_log_valid.where( data_user_log_valid.page=='NextSong' ).groupBy('userId', 'sessionId').count()\n",
    "data_user_avg_songs = data_user_avg_songs.groupBy('userId').agg(F.avg('count').alias('songsPerSession'))"
   ]
  },
  {
   "cell_type": "code",
   "execution_count": 58,
   "metadata": {},
   "outputs": [],
   "source": [
    "# extract: number of songs added to playlist\n",
    "data_user_playlist_count = data_user_log_valid.where( data_user_log_valid.page=='Add to Playlist') \\\n",
    "                            .groupBy('userId') \\\n",
    "                            .count() \\\n",
    "                            .withColumnRenamed('count', 'playlistCount')"
   ]
  },
  {
   "cell_type": "code",
   "execution_count": 59,
   "metadata": {},
   "outputs": [],
   "source": [
    "# extract: number of errors encountered\n",
    "data_user_error_count = data_user_log_valid.where( data_user_log_valid.page=='Error') \\\n",
    "                            .groupBy('userId') \\\n",
    "                            .count().withColumnRenamed('count', 'errorCount')"
   ]
  },
  {
   "cell_type": "code",
   "execution_count": 60,
   "metadata": {},
   "outputs": [],
   "source": [
    "# extract: number of advertisements seen\n",
    "data_user_ad_count = data_user_log_valid.where( data_user_log_valid.page=='Roll Advert') \\\n",
    "                        .groupBy('userId').count() \\\n",
    "                        .withColumnRenamed('count', 'adCount')"
   ]
  },
  {
   "cell_type": "code",
   "execution_count": 61,
   "metadata": {},
   "outputs": [],
   "source": [
    "# extract: number of friends added\n",
    "data_user_friends_count = data_user_log_valid.where( data_user_log_valid.page=='Add Friend') \\\n",
    "                            .groupBy('userId').count() \\\n",
    "                            .withColumnRenamed('count', 'friendCount')"
   ]
  },
  {
   "cell_type": "code",
   "execution_count": 62,
   "metadata": {},
   "outputs": [],
   "source": [
    "# extract: number of thumbs up and thumbs own events\n",
    "data_user_thumbsup_count = data_user_log_valid.where( data_user_log_valid.page=='Thumbs Up') \\\n",
    "                            .groupBy('userId').count() \\\n",
    "                            .withColumnRenamed('count', 'thumbsUpCount')\n",
    "\n",
    "data_user_thumbsdown_count = data_user_log_valid.where( data_user_log_valid.page=='Thumbs Down') \\\n",
    "                            .groupBy('userId').count() \\\n",
    "                            .withColumnRenamed('count', 'thumbsDownCount')"
   ]
  },
  {
   "cell_type": "code",
   "execution_count": 63,
   "metadata": {},
   "outputs": [],
   "source": [
    "# map the 'paid'/'free' to binary 1/0 values\n",
    "func_levelMapper = F.udf(lambda x: 1 if x == 'paid' else 0, IntegerType())\n",
    "\n",
    "data_user_current_level = data_user_current_level.withColumn('level', func_levelMapper( data_user_current_level.level ))"
   ]
  },
  {
   "cell_type": "markdown",
   "metadata": {},
   "source": [
    "**Note: Skip Forwarded or Not?**\n",
    "\n",
    "With the assumption that the recommendation engine recommends the next song to the user, a good indicator could be the percentage length of the song listened to by the user for the effectiveness of the recommendation engine. This is because the actual dataset provides the time length of the song in seconds. Thus, the difference of the timestamps of the events could be calculated (for understanding: timestamp of the next event minus the timestamp of the current event) to make visible how long the user listened to the selected song. This is because the longer the user stays with the current song before finally switching to the next one, the better the recommendation, the better it is accepted by the user, and the greater the actual chance that the user will stay on this platform."
   ]
  },
  {
   "cell_type": "code",
   "execution_count": 64,
   "metadata": {},
   "outputs": [],
   "source": [
    "# set window\n",
    "w = Window().partitionBy(\"userId\",\"sessionId\").orderBy(\"timestamp\")\n",
    "data_lag = data_user_log_valid.withColumn('next_ts',\n",
    "                        F.lag( data_user_log_valid['ts'], -1).over(w))\n",
    "\n",
    "data_user_log_valid = data_lag.withColumn('play_duration', \n",
    "                       ( data_lag['next_ts'] - data_lag['ts'] ) / ( data_lag['length']*1000 ))\n",
    "\n",
    "data_user_avg_listen_length = data_user_log_valid.where( data_user_log_valid.page=='NextSong') \\\n",
    "                            .groupBy('userId') \\\n",
    "                            .agg(F.avg('play_duration').alias('avg_listen_length'))"
   ]
  },
  {
   "cell_type": "code",
   "execution_count": 65,
   "metadata": {},
   "outputs": [],
   "source": [
    "func_genderMapper = F.udf(lambda x: 1 if x == 'M' else 0, IntegerType())\n",
    "func_churnMapper  = F.udf(lambda x: 1 if x == 'churned' else 0, IntegerType())\n",
    "\n",
    "data_users = data_user_log_valid.select('userId', \n",
    "                                        func_churnMapper('churned').alias('label'),\n",
    "                                        func_genderMapper('gender').alias('gender')).dropDuplicates()"
   ]
  },
  {
   "cell_type": "code",
   "execution_count": 66,
   "metadata": {},
   "outputs": [],
   "source": [
    "# create data container for modelling\n",
    "data_modelling = data_users.join( data_user_lifetime, on='userId', how='left') \\\n",
    "                    .join( data_user_session_info, on='userId', how='left') \\\n",
    "                    .join( data_user_avg_songs, on='userId', how='left') \\\n",
    "                    .join( data_user_playlist_count, on='userId', how='left') \\\n",
    "                    .join( data_user_error_count, on='userId', how='left') \\\n",
    "                    .join( data_user_ad_count, on='userId', how='left') \\\n",
    "                    .join( data_user_friends_count, on='userId', how='left') \\\n",
    "                    .join( data_user_thumbsup_count, on='userId', how='left') \\\n",
    "                    .join( data_user_thumbsdown_count, on='userId', how='left') \\\n",
    "                    .join( data_user_avg_listen_length, on='userId', how='left') \\\n",
    "                    .join( data_user_current_level, on='userId', how='left') \\\n",
    "                    .drop('userId') \\\n",
    "                    .fillna(0)"
   ]
  },
  {
   "cell_type": "markdown",
   "metadata": {},
   "source": [
    "**Note**\n",
    "\n",
    "If a user has not performed a certain action, e.g. thumbs up/thumbs down or add to playlist, \n",
    "the corresponding value is set to NULL by linking. \n",
    "This effect can be seen in the \"engineered count\" and \"average\" columns. We can safely populate these values with 0."
   ]
  },
  {
   "cell_type": "code",
   "execution_count": 67,
   "metadata": {},
   "outputs": [
    {
     "name": "stdout",
     "output_type": "stream",
     "text": [
      "root\n",
      " |-- label: integer (nullable = true)\n",
      " |-- gender: integer (nullable = true)\n",
      " |-- lifetime: double (nullable = false)\n",
      " |-- sessionCount: long (nullable = true)\n",
      " |-- averageSessionDuration: double (nullable = false)\n",
      " |-- maxSessionDuration: long (nullable = true)\n",
      " |-- minSessionDuration: long (nullable = true)\n",
      " |-- songsPerSession: double (nullable = false)\n",
      " |-- playlistCount: long (nullable = true)\n",
      " |-- errorCount: long (nullable = true)\n",
      " |-- adCount: long (nullable = true)\n",
      " |-- friendCount: long (nullable = true)\n",
      " |-- thumbsUpCount: long (nullable = true)\n",
      " |-- thumbsDownCount: long (nullable = true)\n",
      " |-- avg_listen_length: double (nullable = false)\n",
      " |-- level: integer (nullable = true)\n",
      "\n"
     ]
    }
   ],
   "source": [
    "data_modelling.printSchema()"
   ]
  },
  {
   "cell_type": "code",
   "execution_count": 68,
   "metadata": {},
   "outputs": [],
   "source": [
    "data_modelling.write.save( CONST_PROCESSED_DATAFILE, format=\"json\", mode=\"overwrite\" )"
   ]
  },
  {
   "cell_type": "markdown",
   "metadata": {},
   "source": [
    "<hr>"
   ]
  },
  {
   "cell_type": "markdown",
   "metadata": {},
   "source": [
    "# Modeling\n",
    "Split the full dataset into train, test, and validation sets. Test out several of the machine learning methods you learned. Evaluate the accuracy of the various models, tuning parameters as necessary. Determine your winning model based on test accuracy and report results on the validation set. Since the churned users are a fairly small subset, I suggest using F1 score as the metric to optimize."
   ]
  },
  {
   "cell_type": "code",
   "execution_count": 69,
   "metadata": {},
   "outputs": [],
   "source": [
    "data_modelling = spark.read.json( CONST_PROCESSED_DATAFILE )"
   ]
  },
  {
   "cell_type": "markdown",
   "metadata": {},
   "source": [
    "**Note: Selecting the evaluation metric**\n",
    "\n",
    "Since this is a binary classification problem, Accuracy, Recall, Precision, f1 score, or Area under ROC curve should be considered as possible scoring metrics.\n",
    "\n",
    "The area under ROC and Accuracy work best when the labels are balanced. The target variable 'churned' is skewed with 76% negative and 24% positive cases. Therefore, Accuracy or Area under ROC curve cannot be used well enough as a metric."
   ]
  },
  {
   "cell_type": "code",
   "execution_count": 70,
   "metadata": {},
   "outputs": [
    {
     "name": "stdout",
     "output_type": "stream",
     "text": [
      "======================Naive Prediction Scores======================\n",
      "Predict - No Churning:\n",
      " {'accuracy': 0.7688888888888888, 'precision': 0, 'recall': 0.0, 'specificity': 1.0, 'f1_score': 0}\n",
      "\n",
      "Predict - Everybody as Churned:\n",
      " {'accuracy': 0.2311111111111111, 'precision': 0.2311111111111111, 'recall': 1.0, 'specificity': 0.0, 'f1_score': 0.37545126353790614}\n"
     ]
    }
   ],
   "source": [
    "def func_getMetrics(df):\n",
    "    TP = df[(df.label==1) & (df.prediction==1)].shape[0]\n",
    "    TN = df[(df.label==0) & (df.prediction==0)].shape[0]\n",
    "    FP = df[(df.label==0) & (df.prediction==1)].shape[0]\n",
    "    FN = df[(df.label==1) & (df.prediction==0)].shape[0]\n",
    "    \n",
    "    accuracy    = (TP+TN)/(TP + TN + FP + FN)\n",
    "    precision   = 0 if (TP+FP)==0 else TP/(TP+FP)\n",
    "    recall      = 0 if (TP+FN)==0 else TP/(TP+FN)\n",
    "    specificity = 0 if (TN+FP)==0 else TN/(TN+FP)\n",
    "    f1_score    = 0 if (precision + recall)==0 else (2*precision*recall) / (precision + recall)\n",
    "    \n",
    "    result = {'accuracy': accuracy, 'precision':precision, 'recall': recall, 'specificity': specificity, 'f1_score': f1_score}\n",
    "    return result\n",
    "# -----------------------\n",
    "\n",
    "df = data_modelling.select('label').toPandas()\n",
    "df['prediction'] = 0\n",
    "results_pred_0 = func_getMetrics(df)\n",
    "\n",
    "df['prediction'] = 1\n",
    "results_pred_1 = func_getMetrics(df)\n",
    "\n",
    "print('======================Naive Prediction Scores======================')\n",
    "print('Predict - No Churning:\\n {}\\n'.format( results_pred_0 ) )\n",
    "print('Predict - Everybody as Churned:\\n {}'.format( results_pred_1 ) )"
   ]
  },
  {
   "cell_type": "markdown",
   "metadata": {},
   "source": [
    "**Note**\n",
    "\n",
    "An attempt should be made to capture as many churned users as possible, as it is not desired that these users churn. However, classifying all users as `churned` would be counterproductive, as Sparkify would end up offering discounts to all users, resulting in lost revenue. Thus, this strategy does not work. Something else needs to be done.\n",
    "\n",
    "An attempt must be made to maximize both Precision and Recall scores. A balancing F1 score thus seems to be the most appropriate measure for evaluating the model.\n",
    "\n",
    "A naive set of predictions yielded an F1 score of 0 (based on prediction of no churn) and a value of approximately 0.38 when predicting complete churn. Applying supervised learning techniques, one can see if a model can have a better prediction than this one. This would be a possibility."
   ]
  },
  {
   "cell_type": "markdown",
   "metadata": {},
   "source": [
    "### Vectorize and Scale"
   ]
  },
  {
   "cell_type": "code",
   "execution_count": 71,
   "metadata": {},
   "outputs": [],
   "source": [
    "feature_columns = [col for col in data_modelling.columns if col != 'label']\n",
    "\n",
    "assembler = VectorAssembler( inputCols=feature_columns, outputCol='FeatureVector' )\n",
    "data_modelling = assembler.transform( data_modelling )"
   ]
  },
  {
   "cell_type": "code",
   "execution_count": 72,
   "metadata": {},
   "outputs": [],
   "source": [
    "std_scaler  = StandardScaler( inputCol=\"FeatureVector\", outputCol=\"features\", withStd=True )\n",
    "train, test = data_modelling.randomSplit([0.7, 0.3], seed=42)\n",
    "\n",
    "scalerModel = std_scaler.fit( train )\n",
    "train = scalerModel.transform( train ).select( F.col('features'), F.col('label')).persist()\n",
    "test  = scalerModel.transform( test ).select( F.col('features'), F.col('label')).persist()"
   ]
  },
  {
   "cell_type": "markdown",
   "metadata": {},
   "source": [
    "Implement some helper functions:"
   ]
  },
  {
   "cell_type": "code",
   "execution_count": 73,
   "metadata": {},
   "outputs": [],
   "source": [
    "class F1Score_Evaluator(Evaluator):\n",
    "\n",
    "    def __init__(self, predictionCol=\"prediction\", labelCol=\"label\"):\n",
    "        self.predictionCol = predictionCol\n",
    "        self.labelCol      = labelCol\n",
    "    # -----------------------\n",
    "\n",
    "    def _evaluate(self, dataset):\n",
    "        \"\"\"\n",
    "        Returns a random number. \n",
    "        Implement here the true metric\n",
    "        \"\"\"\n",
    "        return func_getMetrics(dataset.select('label', 'prediction').toPandas())['f1_score']\n",
    "    # -----------------------\n",
    "\n",
    "    def isLargerBetter(self):\n",
    "        return True\n",
    "    # -----------------------\n",
    "# -----------------------"
   ]
  },
  {
   "cell_type": "code",
   "execution_count": 74,
   "metadata": {},
   "outputs": [],
   "source": [
    "def func_trainModel(train_data, test_data, estimator, paramGrid=None):\n",
    "    estimatorName = estimator.__class__.__name__\n",
    "    evaluator     = F1Score_Evaluator()\n",
    "    \n",
    "    if paramGrid != None:\n",
    "        estimator = CrossValidator(estimator=estimator,\n",
    "                                   estimatorParamMaps=paramGrid,\n",
    "                                   evaluator=evaluator,\n",
    "                                   numFolds=3)\n",
    "    # --- then ---\n",
    "      \n",
    "    model      = estimator.fit( train_data )\n",
    "    train_pred = model.transform( train_data )\n",
    "    test_pred  = model.transform( test_data )\n",
    "    train_f1   = evaluator.evaluate( train_pred );\n",
    "    test_f1    = evaluator.evaluate( test_pred );\n",
    "    \n",
    "    result     = {'estimator': estimatorName, 'train_f1': train_f1, 'test_f1': test_f1, 'model': model}\n",
    "    return result"
   ]
  },
  {
   "cell_type": "code",
   "execution_count": 75,
   "metadata": {},
   "outputs": [],
   "source": [
    "def func_showResult(result):\n",
    "    print('estimator      : {}'.format( result[\"estimator\"] ))\n",
    "    print('train f1-score : {}'.format( result[\"train_f1\"] ))\n",
    "    print('test  f1-score : {}'.format( result[\"test_f1\"] ))\n",
    "    print('Model          : {}'.format( result[\"model\"] ))"
   ]
  },
  {
   "cell_type": "markdown",
   "metadata": {},
   "source": [
    "**Note**\n",
    "\n",
    "In the next step, we will evaluate different machine learning models for the f1 score to get a first impression of them. After that, the best models will be selected and further optimized."
   ]
  },
  {
   "cell_type": "code",
   "execution_count": 76,
   "metadata": {
    "scrolled": false
   },
   "outputs": [
    {
     "name": "stdout",
     "output_type": "stream",
     "text": [
      "estimator      : LogisticRegression\n",
      "train f1-score : 0.5172413793103448\n",
      "test  f1-score : 0.5\n",
      "Model          : LogisticRegressionModel: uid=LogisticRegression_310af2ed2575, numClasses=2, numFeatures=15\n",
      "--------------------------------------\n",
      "\n",
      "estimator      : RandomForestClassifier\n",
      "train f1-score : 0.819672131147541\n",
      "test  f1-score : 0.2\n",
      "Model          : RandomForestClassificationModel: uid=RandomForestClassifier_3fd0e2a012ad, numTrees=20, numClasses=2, numFeatures=15\n",
      "--------------------------------------\n",
      "\n",
      "estimator      : GBTClassifier\n",
      "train f1-score : 1.0\n",
      "test  f1-score : 0.37037037037037035\n",
      "Model          : GBTClassificationModel: uid = GBTClassifier_16b72186abce, numTrees=20, numClasses=2, numFeatures=15\n",
      "--------------------------------------\n",
      "\n",
      "estimator      : DecisionTreeClassifier\n",
      "train f1-score : 0.8529411764705883\n",
      "test  f1-score : 0.25\n",
      "Model          : DecisionTreeClassificationModel: uid=DecisionTreeClassifier_728deddf871f, depth=5, numNodes=27, numClasses=2, numFeatures=15\n",
      "--------------------------------------\n",
      "\n",
      "estimator      : NaiveBayes\n",
      "train f1-score : 0.33962264150943394\n",
      "test  f1-score : 0.15384615384615383\n",
      "Model          : NaiveBayesModel: uid=NaiveBayes_87e37806e153, modelType=multinomial, numClasses=2, numFeatures=15\n",
      "--------------------------------------\n",
      "\n"
     ]
    }
   ],
   "source": [
    "results = []\n",
    "\n",
    "# all machine learning algos which are to be investigated\n",
    "all_algo = [LogisticRegression(), \\\n",
    "            RandomForestClassifier( seed=49 ), \\\n",
    "            GBTClassifier( seed=49 ), \\\n",
    "            DecisionTreeClassifier( seed=49 ), \\\n",
    "            NaiveBayes()]\n",
    "\n",
    "\n",
    "# interate over each algo and get a result of trainModel\n",
    "for algo in all_algo:\n",
    "    result = func_trainModel(train, test, algo, None)  # train the model\n",
    "    results.append(result)                             # store result\n",
    "    func_showResult(result)                            # show the result\n",
    "    print('--------------------------------------\\n')\n",
    "# ---- for ----"
   ]
  },
  {
   "cell_type": "markdown",
   "metadata": {},
   "source": [
    "### Results of all 5 Classifiers for the first impression"
   ]
  },
  {
   "cell_type": "code",
   "execution_count": 77,
   "metadata": {},
   "outputs": [],
   "source": [
    "pd_results = pd.DataFrame(results)"
   ]
  },
  {
   "cell_type": "code",
   "execution_count": 78,
   "metadata": {},
   "outputs": [
    {
     "data": {
      "image/png": "[encoded data removed]",
      "text/plain": [
       "<Figure size 576x432 with 1 Axes>"
      ]
     },
     "metadata": {
      "needs_background": "light"
     },
     "output_type": "display_data"
    }
   ],
   "source": [
    "# plot a diagram\n",
    "fig, ax = plt.subplots(figsize=(8,6))\n",
    "ax.barh(pd_results['estimator'], pd_results['train_f1'], 0.3, align='edge', color=CONST_COLOR_1, label='train_f1', zorder=3)\n",
    "ax.barh(pd_results['estimator'], pd_results['test_f1'], 0.3, align='center', color=CONST_COLOR_3, label='test_f1', zorder=3)\n",
    "\n",
    "plt.legend(loc='upper right')\n",
    "plt.tight_layout()\n",
    "plt.rcParams.update(pltParams)\n",
    "plt.grid(True)\n",
    "plt.show()"
   ]
  },
  {
   "cell_type": "markdown",
   "metadata": {},
   "source": [
    "**Note**\n",
    "\n",
    "As can be seen, the algorithms gave different results:\n",
    "\n",
    "`LogisticRegression` has an almost equal F1 score between training and test sets. The `GBTClassifier` and `DecisionTreeClassifier` both have a high training F1 score and better test results compared to `RandomForestClassfier`. The `NaiveBayes` shows very poor training and test results. This algorithm should not be further supported."
   ]
  },
  {
   "cell_type": "markdown",
   "metadata": {},
   "source": [
    "### Further optimizations of the 3 best machine learning models\n",
    "\n",
    "**Note**\n",
    "\n",
    "The next steps are to apply supervised learning techniques to clarify if a model can be created with a better prediction than the previous result. To further improve the performance of the chosen model, I tuned the hyperparameters in advance. This took some more time and effort."
   ]
  },
  {
   "cell_type": "code",
   "execution_count": 79,
   "metadata": {},
   "outputs": [],
   "source": [
    "tunedResults=[]"
   ]
  },
  {
   "cell_type": "markdown",
   "metadata": {},
   "source": [
    "### Classifier: RandomForest"
   ]
  },
  {
   "cell_type": "code",
   "execution_count": 80,
   "metadata": {},
   "outputs": [
    {
     "name": "stdout",
     "output_type": "stream",
     "text": [
      "estimator      : RandomForestClassifier\n",
      "train f1-score : 0.819672131147541\n",
      "test  f1-score : 0.2\n",
      "Model          : CrossValidatorModel_7efe560aa489\n"
     ]
    }
   ],
   "source": [
    "# RandomForestClassifier\n",
    "algo = RandomForestClassifier(seed=49)\n",
    "\n",
    "paramGrid = ParamGridBuilder() \\\n",
    "            .addGrid(algo.maxDepth,[2, 3, 5]) \\\n",
    "            .addGrid(algo.minInstancesPerNode,[1,2,3]) \\\n",
    "            .addGrid(algo.maxBins, [4, 8, 16, 32]) \\\n",
    "            .build()\n",
    "\n",
    "result = func_trainModel(train, test, algo, paramGrid)  # train the model\n",
    "tunedResults.append(result)                             # store results for plotting\n",
    "func_showResult(result)                                 # show results"
   ]
  },
  {
   "cell_type": "markdown",
   "metadata": {},
   "source": [
    "### Classifier: DecisionTree"
   ]
  },
  {
   "cell_type": "code",
   "execution_count": 81,
   "metadata": {},
   "outputs": [
    {
     "name": "stdout",
     "output_type": "stream",
     "text": [
      "estimator      : DecisionTreeClassifier\n",
      "train f1-score : 0.6944444444444444\n",
      "test  f1-score : 0.5161290322580646\n",
      "Model          : CrossValidatorModel_1a9847f69981\n"
     ]
    }
   ],
   "source": [
    "# DecisionTreeClassifier\n",
    "algo = DecisionTreeClassifier(seed=49)\n",
    "\n",
    "paramGrid = ParamGridBuilder() \\\n",
    "            .addGrid(algo.maxDepth,[2, 3, 5]) \\\n",
    "            .addGrid(algo.minInstancesPerNode,[1,2,3]) \\\n",
    "            .addGrid(algo.maxBins, [4, 8, 16, 32]) \\\n",
    "            .build()\n",
    "\n",
    "result = func_trainModel(train, test, algo, paramGrid)  # train the model\n",
    "tunedResults.append(result)                             # store results for plotting\n",
    "func_showResult(result)                                 # show results"
   ]
  },
  {
   "cell_type": "markdown",
   "metadata": {},
   "source": [
    "### Classifier: GBT"
   ]
  },
  {
   "cell_type": "code",
   "execution_count": 82,
   "metadata": {},
   "outputs": [
    {
     "name": "stdout",
     "output_type": "stream",
     "text": [
      "estimator      : GBTClassifier\n",
      "train f1-score : 0.8437500000000001\n",
      "test  f1-score : 0.2727272727272727\n",
      "Model          : CrossValidatorModel_cf10bce495cb\n"
     ]
    }
   ],
   "source": [
    "# GBTClassifier\n",
    "algo = GBTClassifier(seed=49)\n",
    "\n",
    "paramGrid = ParamGridBuilder() \\\n",
    "            .addGrid(algo.maxDepth,[2, 3, 5]) \\\n",
    "            .addGrid(algo.minInstancesPerNode,[1,2,3]) \\\n",
    "            .addGrid(algo.maxBins, [4, 8, 16, 32]) \\\n",
    "            .build()\n",
    "\n",
    "result = func_trainModel(train, test, algo, paramGrid)  # train the model\n",
    "tunedResults.append(result)                             # store results for plotting\n",
    "func_showResult(result)                                 # show results"
   ]
  },
  {
   "cell_type": "markdown",
   "metadata": {},
   "source": [
    "### Results of all 3 Classifiers"
   ]
  },
  {
   "cell_type": "code",
   "execution_count": 83,
   "metadata": {},
   "outputs": [],
   "source": [
    "df_tunedResults = pd.DataFrame(tunedResults)"
   ]
  },
  {
   "cell_type": "code",
   "execution_count": 84,
   "metadata": {},
   "outputs": [
    {
     "data": {
      "text/html": [
       "<div>\n",
       "<style scoped>\n",
       "    .dataframe tbody tr th:only-of-type {\n",
       "        vertical-align: middle;\n",
       "    }\n",
       "\n",
       "    .dataframe tbody tr th {\n",
       "        vertical-align: top;\n",
       "    }\n",
       "\n",
       "    .dataframe thead th {\n",
       "        text-align: right;\n",
       "    }\n",
       "</style>\n",
       "<table border=\"1\" class=\"dataframe\">\n",
       "  <thead>\n",
       "    <tr style=\"text-align: right;\">\n",
       "      <th></th>\n",
       "      <th>estimator</th>\n",
       "      <th>train_f1</th>\n",
       "      <th>test_f1</th>\n",
       "      <th>model</th>\n",
       "    </tr>\n",
       "  </thead>\n",
       "  <tbody>\n",
       "    <tr>\n",
       "      <th>0</th>\n",
       "      <td>RandomForestClassifier</td>\n",
       "      <td>0.819672</td>\n",
       "      <td>0.200000</td>\n",
       "      <td>CrossValidatorModel_7efe560aa489</td>\n",
       "    </tr>\n",
       "    <tr>\n",
       "      <th>1</th>\n",
       "      <td>DecisionTreeClassifier</td>\n",
       "      <td>0.694444</td>\n",
       "      <td>0.516129</td>\n",
       "      <td>CrossValidatorModel_1a9847f69981</td>\n",
       "    </tr>\n",
       "    <tr>\n",
       "      <th>2</th>\n",
       "      <td>GBTClassifier</td>\n",
       "      <td>0.843750</td>\n",
       "      <td>0.272727</td>\n",
       "      <td>CrossValidatorModel_cf10bce495cb</td>\n",
       "    </tr>\n",
       "  </tbody>\n",
       "</table>\n",
       "</div>"
      ],
      "text/plain": [
       "                estimator  train_f1   test_f1  \\\n",
       "0  RandomForestClassifier  0.819672  0.200000   \n",
       "1  DecisionTreeClassifier  0.694444  0.516129   \n",
       "2           GBTClassifier  0.843750  0.272727   \n",
       "\n",
       "                              model  \n",
       "0  CrossValidatorModel_7efe560aa489  \n",
       "1  CrossValidatorModel_1a9847f69981  \n",
       "2  CrossValidatorModel_cf10bce495cb  "
      ]
     },
     "execution_count": 84,
     "metadata": {},
     "output_type": "execute_result"
    }
   ],
   "source": [
    "df_tunedResults.head()"
   ]
  },
  {
   "cell_type": "code",
   "execution_count": 85,
   "metadata": {},
   "outputs": [
    {
     "data": {
      "image/png": "[encoded data removed]",
      "text/plain": [
       "<Figure size 576x288 with 1 Axes>"
      ]
     },
     "metadata": {
      "needs_background": "light"
     },
     "output_type": "display_data"
    }
   ],
   "source": [
    "# plot a diagram\n",
    "fig, ax = plt.subplots(figsize=(8,4))\n",
    "ax.barh(df_tunedResults['estimator'], df_tunedResults['train_f1'], 0.3, align='edge', color=CONST_COLOR_1, label='train_f1', zorder=3)\n",
    "ax.barh(df_tunedResults['estimator'], df_tunedResults['test_f1'], 0.3, align='center', color=CONST_COLOR_3, label='test_f1', zorder=3)\n",
    "\n",
    "plt.legend(loc='upper right')\n",
    "plt.tight_layout()\n",
    "plt.rcParams.update(pltParams)\n",
    "plt.grid(True)\n",
    "plt.show()"
   ]
  },
  {
   "cell_type": "markdown",
   "metadata": {},
   "source": [
    "**Note**\n",
    "\n",
    "The GBTClassifier shows the best results with these parameters, but as a drawback it needs much more runtime / computation time than the other two classifiers. This seems to be probably still an overfitting and the F1 score on the test data is not so good. As a solution idea, we should consider further development of more relevant features and perhaps even stagger the features over time to see if the trend over time can provide a better indication or a more significant result on user churn."
   ]
  },
  {
   "cell_type": "markdown",
   "metadata": {},
   "source": [
    "### Feature Importance\n",
    "\n",
    "Finally, we can check the feature importance for our best model and plot this in a chart."
   ]
  },
  {
   "cell_type": "code",
   "execution_count": 86,
   "metadata": {},
   "outputs": [],
   "source": [
    "featureImportances = result['model'].bestModel.featureImportances\n",
    "x_values = list(range(len(featureImportances)))"
   ]
  },
  {
   "cell_type": "code",
   "execution_count": 87,
   "metadata": {},
   "outputs": [
    {
     "data": {
      "image/png": "[encoded data removed]",
      "text/plain": [
       "<Figure size 576x432 with 1 Axes>"
      ]
     },
     "metadata": {
      "needs_background": "light"
     },
     "output_type": "display_data"
    }
   ],
   "source": [
    "# plot a diagram\n",
    "plt.figure(figsize=[8,6])\n",
    "\n",
    "plt.bar(x_values, featureImportances, orientation = 'vertical', zorder=3)\n",
    "plt.xticks(x_values, feature_columns, rotation=75)\n",
    "\n",
    "plt.ylabel('Importance')\n",
    "plt.xlabel('Feature')\n",
    "plt.title('Feature Importances');\n",
    "\n",
    "plt.tight_layout()\n",
    "plt.rcParams.update(pltParams)\n",
    "plt.grid(True)\n",
    "plt.show()"
   ]
  },
  {
   "cell_type": "markdown",
   "metadata": {},
   "source": [
    "**Note**\n",
    "\n",
    "Here we can see that the feature with the highest importance was `lifetime`. Gender and level were the least important features."
   ]
  },
  {
   "cell_type": "markdown",
   "metadata": {},
   "source": [
    "<hr>"
   ]
  },
  {
   "cell_type": "markdown",
   "metadata": {},
   "source": [
    "# Final Steps\n",
    "Clean up your code, adding comments and renaming variables to make the code easier to read and maintain. Refer to the Spark Project Overview page and Data Scientist Capstone Project Rubric to make sure you are including all components of the capstone project and meet all expectations. Remember, this includes thorough documentation in a README file in a Github repository, as well as a web app or blog post."
   ]
  },
  {
   "cell_type": "markdown",
   "metadata": {},
   "source": [
    "My blog post is [here](https://danieljaensch.medium.com/how-can-user-churn-on-the-sparkify-platform-be-predicted-with-pyspark-b0987165dff5)."
   ]
  },
  {
   "cell_type": "markdown",
   "metadata": {},
   "source": [
    "### Project Reflection\n",
    "After feature engineering, I used the same data frame again for another split into test and training data with a subsequent model training. It took a bit longer on this one, even for smaller data sets. It seems more obvious now that the training iterations take longer, since the entire transformation pipeline has to be run each time. Persisting the dataset with constructed features and reloading it would speed up model training. \n",
    "\n",
    "### Other improvements or Future work\n",
    "Several features for training such as songs heard per session or average session duration were averaged for the entire period. Thus, a further breakdown by week could also reveal interesting trends, where decreasing session duration over the period could be a better indicator of users at risk of churn. This could then also further improve the accuracy of the model.\n",
    "\n",
    "Other additional information about the user profile, such as the user's age group, interests, or even other habits, would have been very useful if available. From this, it could be even better to extract his behavior or even the personal hidden reasons why the user acts the way he does. This could again allow conclusions to be drawn about the implementation of appropriate market strategies.\n",
    "\n",
    "Furthermore, one could also derive or find out the genre of the song of the title or artist. Because if users who do not like a certain genre migrate more frequently, this could also be an indication of problems with the recommendation engine. Thus, the algorithm could be extended here again in a more personalized way.\n",
    "\n",
    "These are all additional possibilities for further development."
   ]
  },
  {
   "cell_type": "code",
   "execution_count": null,
   "metadata": {},
   "outputs": [],
   "source": []
  }
 ],
 "metadata": {
  "kernelspec": {
   "display_name": "Python 3",
   "language": "python",
   "name": "python3"
  },
  "language_info": {
   "codemirror_mode": {
    "name": "ipython",
    "version": 3
   },
   "file_extension": ".py",
   "mimetype": "text/x-python",
   "name": "python",
   "nbconvert_exporter": "python",
   "pygments_lexer": "ipython3",
   "version": "3.8.10"
  }
 },
 "nbformat": 4,
 "nbformat_minor": 2
}
